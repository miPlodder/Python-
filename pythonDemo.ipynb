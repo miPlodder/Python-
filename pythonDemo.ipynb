{
 "cells": [
  {
   "cell_type": "code",
   "execution_count": 171,
   "metadata": {},
   "outputs": [
    {
     "name": "stdout",
     "output_type": "stream",
     "text": [
      "Press any key to exit\n"
     ]
    },
    {
     "data": {
      "text/plain": [
       "''"
      ]
     },
     "execution_count": 171,
     "metadata": {},
     "output_type": "execute_result"
    }
   ],
   "source": [
    "_statement = \"python 3 demo\"\n",
    "\n",
    "#raw_input(\"\") --> used in python 2.7\n",
    "a = input(\"Press any key to %s\" %(\"exit\"))  \n",
    "a"
   ]
  },
  {
   "cell_type": "code",
   "execution_count": 172,
   "metadata": {},
   "outputs": [
    {
     "name": "stdout",
     "output_type": "stream",
     "text": [
      "I am 20 years old.\n"
     ]
    },
    {
     "data": {
      "text/plain": [
       "'3 3.000000 hello world'"
      ]
     },
     "execution_count": 172,
     "metadata": {},
     "output_type": "execute_result"
    }
   ],
   "source": [
    "_int = 3\n",
    "_float = 3.0\n",
    "_string = \"hello world\"\n",
    "\n",
    "#concating method 1\n",
    "print(\"{0} {1} {2} years old.\".format(\"I\", \"am\", 20))\n",
    "\n",
    "#i integer\n",
    "#f float\n",
    "#s string\n",
    "#d decimal\n",
    "#c character\n",
    "\n",
    "#concating method 2\n",
    "_concatening = \"%i %f %s\" %(_int, _float, _string)\n",
    "_concatening"
   ]
  },
  {
   "cell_type": "code",
   "execution_count": 173,
   "metadata": {},
   "outputs": [
    {
     "name": "stdout",
     "output_type": "stream",
     "text": [
      "saksham\n"
     ]
    },
    {
     "ename": "NameError",
     "evalue": "name 'var1' is not defined",
     "output_type": "error",
     "traceback": [
      "\u001b[1;31m---------------------------------------------------------------------------\u001b[0m",
      "\u001b[1;31mNameError\u001b[0m                                 Traceback (most recent call last)",
      "\u001b[1;32m<ipython-input-173-3f60f9a50da8>\u001b[0m in \u001b[0;36m<module>\u001b[1;34m()\u001b[0m\n\u001b[0;32m      4\u001b[0m \u001b[1;31m#deleting variable\u001b[0m\u001b[1;33m\u001b[0m\u001b[1;33m\u001b[0m\u001b[0m\n\u001b[0;32m      5\u001b[0m \u001b[1;32mdel\u001b[0m \u001b[0mvar1\u001b[0m\u001b[1;33m\u001b[0m\u001b[0m\n\u001b[1;32m----> 6\u001b[1;33m \u001b[0mprint\u001b[0m\u001b[1;33m(\u001b[0m\u001b[1;34m\"{}\"\u001b[0m\u001b[1;33m.\u001b[0m\u001b[0mformat\u001b[0m\u001b[1;33m(\u001b[0m\u001b[0mvar1\u001b[0m\u001b[1;33m)\u001b[0m\u001b[1;33m)\u001b[0m\u001b[1;33m\u001b[0m\u001b[0m\n\u001b[0m",
      "\u001b[1;31mNameError\u001b[0m: name 'var1' is not defined"
     ]
    }
   ],
   "source": [
    "var1 = \"saksham\"\n",
    "print(\"{}\".format(var1))\n",
    "\n",
    "#deleting variable\n",
    "del var1\n",
    "print(\"{}\".format(var1))"
   ]
  },
  {
   "cell_type": "code",
   "execution_count": 174,
   "metadata": {},
   "outputs": [
    {
     "name": "stdout",
     "output_type": "stream",
     "text": [
      "100\n",
      "<class 'float'>\n",
      "<class 'complex'>\n"
     ]
    }
   ],
   "source": [
    "#data types in python\n",
    "\n",
    "#number \n",
    "\n",
    "_int = 100\n",
    "print(_int)\n",
    "\n",
    "_float = 11111111111111111.9\n",
    "print(type(_float))\n",
    "\n",
    "_complex = 3 + 4j\n",
    "print(type(_complex))"
   ]
  },
  {
   "cell_type": "code",
   "execution_count": 225,
   "metadata": {},
   "outputs": [
    {
     "name": "stdout",
     "output_type": "stream",
     "text": [
      "H\n",
      "el\n",
      "ello World\n",
      "Hel\n",
      "Hello WorldHello World\n",
      "Hello Worlds\n",
      "d\n",
      "W\n"
     ]
    }
   ],
   "source": [
    "#string\n",
    "\n",
    "_str = \"Hello World\"\n",
    "\n",
    "print(_str[0])\n",
    "print(_str[1:3])\n",
    "print(_str[1:])\n",
    "print(_str[:3])\n",
    "print(_str*2)\n",
    "print(_str+\"s\")\n",
    "print(_str[-1])\n",
    "print(_str[-5]) #second last"
   ]
  },
  {
   "cell_type": "markdown",
   "metadata": {},
   "source": [
    "list = ['saksham',23,32.1,2-4j]\n",
    "list.append(\"appended\")\n",
    "tinylist = ['you',21]\n",
    "\n",
    "print(list)\n",
    "print(list[1:3])\n",
    "print(list + tinylist)\n",
    "\n",
    "#updating the list\n",
    "list[2] = \"update\" \n",
    "print(list)\n",
    "\n",
    "print(list.count(23)) #count the occurance in list\n",
    "print(len(list)) #length of list"
   ]
  },
  {
   "cell_type": "code",
   "execution_count": 211,
   "metadata": {},
   "outputs": [
    {
     "name": "stdout",
     "output_type": "stream",
     "text": [
      "('saksham', 23, 32.1, (2-4j))\n",
      "(23, 32.1)\n",
      "('saksham', 23, 32.1, (2-4j), 'you', 21)\n"
     ]
    }
   ],
   "source": [
    "#tuples \n",
    "\n",
    "_tuples = ('saksham',23,32.1,2-4j)\n",
    "tinytuple = ('you',21)\n",
    "\n",
    "print(_tuples)\n",
    "print(_tuples[1:3])\n",
    "print(_tuples + tinytuple)\n",
    "\n",
    "#tuples cannot be updated like lists\n",
    "\n",
    "#tuple[2] = \"update\" \n",
    "#print(tuple)"
   ]
  },
  {
   "cell_type": "code",
   "execution_count": 228,
   "metadata": {},
   "outputs": [
    {
     "name": "stdout",
     "output_type": "stream",
     "text": [
      "{0: 'val1', 'one': 3}\n",
      "3\n",
      "dict_values(['val1', 3])\n",
      "dict_keys([0, 'one'])\n"
     ]
    }
   ],
   "source": [
    "#dictionary\n",
    "\n",
    "dict = {}\n",
    "dict[0] = \"val1\"\n",
    "dict[\"one\"] = 1\n",
    "\n",
    "#update the dictionary\n",
    "dict[\"one\"] = 3 \n",
    "\n",
    "tinydict = {0:\"val1\",1:\"val2\"}\n",
    "\n",
    "print(dict)\n",
    "print(dict[\"one\"])\n",
    "print(dict.values())\n",
    "print(dict.keys())\n"
   ]
  },
  {
   "cell_type": "code",
   "execution_count": 213,
   "metadata": {},
   "outputs": [
    {
     "name": "stdout",
     "output_type": "stream",
     "text": [
      "23.0\n",
      "(23+0j)\n"
     ]
    }
   ],
   "source": [
    "#typecasting\n",
    "\n",
    "_int = \"23\"\n",
    "\n",
    "print(float(_int))\n",
    "print(complex(_int))"
   ]
  },
  {
   "cell_type": "code",
   "execution_count": 214,
   "metadata": {},
   "outputs": [
    {
     "name": "stdout",
     "output_type": "stream",
     "text": [
      "1\n",
      "7\n",
      "6\n",
      "20\n",
      "1\n",
      "-6\n"
     ]
    }
   ],
   "source": [
    "#operator\n",
    "\n",
    "_one = 5\n",
    "_two = 3\n",
    "\n",
    "print(_one & _two)\n",
    "print(_one | _two)\n",
    "print(_one ^ _two)\n",
    "print(_one << 2)\n",
    "print(_one >> 2)\n",
    "print(~_one)"
   ]
  },
  {
   "cell_type": "code",
   "execution_count": 215,
   "metadata": {},
   "outputs": [
    {
     "name": "stdout",
     "output_type": "stream",
     "text": [
      "False\n"
     ]
    }
   ],
   "source": [
    "var = False\n",
    "\n",
    "if(var) :\n",
    "    print(\"True\")\n",
    "elif(~var):\n",
    "    print(\"False\")\n",
    "else:\n",
    "    print(\"never here\")"
   ]
  },
  {
   "cell_type": "code",
   "execution_count": 242,
   "metadata": {},
   "outputs": [
    {
     "name": "stdout",
     "output_type": "stream",
     "text": [
      "I'm first call to user defined function!\n",
      "Again second call to the same function\n",
      "1\n"
     ]
    }
   ],
   "source": [
    "def printme(str):\n",
    "   #This prints a passed string into this function\n",
    "   print(str)\n",
    "   return 1\n",
    "   \n",
    "\n",
    "# Now you can call printme function\n",
    "printme(\"I'm first call to user defined function!\")\n",
    "print(printme(\"Again second call to the same function\"))"
   ]
  },
  {
   "cell_type": "code",
   "execution_count": 249,
   "metadata": {},
   "outputs": [
    {
     "name": "stdout",
     "output_type": "stream",
     "text": [
      "8\n",
      "hello world\n"
     ]
    }
   ],
   "source": [
    "def concat( num1 , num2):\n",
    "    return num1 + num2 \n",
    "\n",
    "print(concat(num2 = 3, num1 = 5))\n",
    "print(concat(num2 = \"world\", num1 = \"hello \"))"
   ]
  },
  {
   "cell_type": "code",
   "execution_count": 255,
   "metadata": {},
   "outputs": [
    {
     "name": "stdout",
     "output_type": "stream",
     "text": [
      "Outside value of global 3\n",
      "Outside value of global -1\n"
     ]
    }
   ],
   "source": [
    "_global = -1 ;\n",
    "\n",
    "def addnum(num1, num2):\n",
    "    \n",
    "    _global = num1 + _num2 ;\n",
    "    return _global\n",
    "\n",
    "print(\"Outside value of global %d\" % (addnumber(1,2)))\n",
    "print(\"Outside value of global %d\" % (_global))"
   ]
  },
  {
   "cell_type": "code",
   "execution_count": 256,
   "metadata": {},
   "outputs": [
    {
     "name": "stdout",
     "output_type": "stream",
     "text": [
      "34\n"
     ]
    }
   ],
   "source": [
    "#always call by value in case of integer or string like JAVA (HEAP)\n",
    "def check(temp):\n",
    "    \n",
    "    temp += 10\n",
    "    return temp;\n",
    "\n",
    "temp = 34;\n",
    "print(check(temp))"
   ]
  },
  {
   "cell_type": "code",
   "execution_count": 263,
   "metadata": {},
   "outputs": [
    {
     "name": "stdout",
     "output_type": "stream",
     "text": [
      "Inside function [4, 5, 6, [1, 2, 3]]\n",
      "Outside function [4, 5, 6, [1, 2, 3]]\n"
     ]
    }
   ],
   "source": [
    "#always call by refernce in case of list or dictionary like in JAVA (HEAP)\n",
    "def check(temp):\n",
    "    \n",
    "    mylist = [1,2,3]\n",
    "    temp.append(mylist)\n",
    "    return temp;\n",
    "\n",
    "tempy = [4,5,6];\n",
    "\n",
    "print(\"Inside function {}\".format(check(tempy)))\n",
    "print(\"Outside function {}\".format(tempy))"
   ]
  },
  {
   "cell_type": "code",
   "execution_count": null,
   "metadata": {
    "collapsed": true
   },
   "outputs": [],
   "source": [
    "#class in python\n",
    "\n",
    "class Employee:\n",
    "    \n",
    "    #global variable\n",
    "    count = 0\n",
    "    \n",
    "    def __init__(self, name, salary):\n",
    "        Employee.count += 1\n",
    "        self.name = name\n",
    "        self.salary = salary\n",
    "        \n",
    "    def toString(self):\n",
    "        print(\"Name : %s\\nSalary : %d\"%(self.name,self.salary))\n",
    "        \n",
    "    def getCount(self):\n",
    "        print(\"Total Employee : %d\"%(Employee.count))\n",
    "\n",
    "        \n",
    "emp1 = Employee(\"saksham\",1000)\n",
    "emp1.toString()\n",
    "emp1.getCount()\n",
    "\n",
    "emp2 = Employee(\"rahul\",2000)\n",
    "emp2.toString()\n",
    "emp2.getCount()\n"
   ]
  },
  {
   "cell_type": "code",
   "execution_count": 1,
   "metadata": {},
   "outputs": [
    {
     "name": "stdout",
     "output_type": "stream",
     "text": [
      "0\n",
      "1\n",
      "2\n",
      "3\n",
      "4\n",
      "5\n",
      "6\n",
      "7\n",
      "8\n",
      "9\n"
     ]
    }
   ],
   "source": [
    "#while loop\n",
    "\n",
    "counter = 0 \n",
    "while(counter < 10):\n",
    "    print(counter)\n",
    "    counter +=1\n"
   ]
  },
  {
   "cell_type": "code",
   "execution_count": 2,
   "metadata": {},
   "outputs": [
    {
     "name": "stdout",
     "output_type": "stream",
     "text": [
      "1\n",
      "2\n",
      "three\n",
      "4\n",
      "five\n"
     ]
    }
   ],
   "source": [
    "#for each loop \n",
    "\n",
    "_list = [1,2, \"three\", 4, \"five\"]\n",
    "for i in _list:\n",
    "    print(i)"
   ]
  },
  {
   "cell_type": "code",
   "execution_count": 6,
   "metadata": {},
   "outputs": [
    {
     "name": "stdout",
     "output_type": "stream",
     "text": [
      "1\n",
      "2\n",
      "3\n",
      "4\n",
      "5\n",
      "6\n",
      "7\n",
      "8\n",
      "9\n"
     ]
    }
   ],
   "source": [
    "#for loop\n",
    "\n",
    "for i in range(1,10):  #increment, upper bound\n",
    "    print(i)"
   ]
  },
  {
   "cell_type": "code",
   "execution_count": 73,
   "metadata": {},
   "outputs": [
    {
     "data": {
      "text/plain": [
       "<matplotlib.legend.Legend at 0x2e8050855f8>"
      ]
     },
     "execution_count": 73,
     "metadata": {},
     "output_type": "execute_result"
    },
    {
     "data": {
      "image/png": "[encoded data removed]",
      "text/plain": [
       "<matplotlib.figure.Figure at 0x2e804884cc0>"
      ]
     },
     "metadata": {},
     "output_type": "display_data"
    },
    {
     "data": {
      "image/png": "[encoded data removed]",
      "text/plain": [
       "<matplotlib.figure.Figure at 0x2e8050c9dd8>"
      ]
     },
     "metadata": {},
     "output_type": "display_data"
    }
   ],
   "source": [
    "#plot in pylab\n",
    "\n",
    "import pylab\n",
    "\n",
    "%matplotlib inline\n",
    "p = linspace(1,100,100)\n",
    "\n",
    "pylab.plot(p, pylab.cos(p),\"r\",linewidth =2)\n",
    "pylab.title(\"text to be shown at top\")\n",
    "pylab.xlabel(\"x\")\n",
    "pylab.ylabel(\"y\")\n",
    "pylab.legend(\"bar\")\n",
    "#pylab.savefig(\"fig.png\")\n",
    "\n",
    "#makes plot on figure only\n",
    "pyplot.figure()\n",
    "p = pylab.linspace(1,100,500)\n",
    "pylab.plot(p, pylab.cos(p),\"b\",linewidth =2)\n",
    "pylab.title(\"text to be shown at top\")\n",
    "pylab.xlabel(\"x\")\n",
    "pylab.ylabel(\"y\")\n",
    "pylab.legend(\"bar\")"
   ]
  },
  {
   "cell_type": "code",
   "execution_count": 15,
   "metadata": {},
   "outputs": [
    {
     "name": "stdout",
     "output_type": "stream",
     "text": [
      "<class 'int'>\n",
      "<class 'float'>\n"
     ]
    }
   ],
   "source": [
    "#type casting\n",
    "_str = \"23\"\n",
    "\n",
    "print(type(int(_str)))\n",
    "print(type(float(_str)))"
   ]
  },
  {
   "cell_type": "code",
   "execution_count": 31,
   "metadata": {},
   "outputs": [
    {
     "data": {
      "text/plain": [
       "4"
      ]
     },
     "execution_count": 31,
     "metadata": {},
     "output_type": "execute_result"
    }
   ],
   "source": [
    "square(2)"
   ]
  },
  {
   "cell_type": "code",
   "execution_count": 35,
   "metadata": {},
   "outputs": [
    {
     "name": "stdout",
     "output_type": "stream",
     "text": [
      "{1, 2, 3}\n",
      "{3, 4, 5}\n"
     ]
    }
   ],
   "source": [
    "#sets\n",
    "\n",
    "_set1 = {1,2,3,3}\n",
    "_set2 = {3,4,5}\n",
    "\n",
    "print(_set1)\n",
    "print(_set2)"
   ]
  },
  {
   "cell_type": "code",
   "execution_count": 43,
   "metadata": {},
   "outputs": [
    {
     "name": "stdout",
     "output_type": "stream",
     "text": [
      "[[2, 3], [3, 4], [4, 5, 4], {3, 4}]\n"
     ]
    }
   ],
   "source": [
    "_2dim = [[2,3],[3,4],[4,5,4]]\n",
    "\n",
    "_2dim.append({3,4})\n",
    "print(_2dim)"
   ]
  },
  {
   "cell_type": "code",
   "execution_count": 62,
   "metadata": {},
   "outputs": [
    {
     "name": "stdout",
     "output_type": "stream",
     "text": [
      "[1 2 3 4 5 6 7]\n",
      "[ 0.33333333  0.66666667  1.          1.33333333  1.66666667  2.\n",
      "  2.33333333]\n",
      "2\n",
      "[2 3 4 5 6 7]\n",
      "[ 1 -1  3  4  5  6  7]\n",
      "4\n"
     ]
    }
   ],
   "source": [
    "#array which can also be used as matrics as arithemethic can be performed here\n",
    "\n",
    "_arr = array([1,2,3,4,5,6,7])\n",
    "\n",
    "print(_arr)\n",
    "print(_arr/3)\n",
    "print(_arr[1])\n",
    "print(_arr[1 :])\n",
    "\n",
    "_arr[1] = -1 \n",
    "print(_arr)\n",
    "\n",
    "\n",
    "#2 dimension arr\n",
    "\n",
    "_arr = array([[1,2],[3,4],[5,6,7]])\n",
    "print(_arr[1][1])"
   ]
  },
  {
   "cell_type": "code",
   "execution_count": 90,
   "metadata": {},
   "outputs": [
    {
     "name": "stdout",
     "output_type": "stream",
     "text": [
      "Not Found\n"
     ]
    }
   ],
   "source": [
    "#regular expressions\n",
    "\n",
    "import re\n",
    "\n",
    "_string = \"sa\"\n",
    "\n",
    "\n",
    "searchObj = re.search( '^sa(.+)s$',_string)\n",
    "\n",
    "if searchObj:\n",
    "    print(\"Found\")\n",
    "else:\n",
    "    print(\"Not Found\")"
   ]
  },
  {
   "cell_type": "code",
   "execution_count": 98,
   "metadata": {},
   "outputs": [
    {
     "name": "stdout",
     "output_type": "stream",
     "text": [
      "Enter any number32wesa\n",
      "Wrong Input\n"
     ]
    }
   ],
   "source": [
    "#exception in python\n",
    "\n",
    "_num = input(\"Enter any number\")\n",
    "\n",
    "try:\n",
    "    _type = int(_num)\n",
    "    print(\"Right Input\")\n",
    "except:\n",
    "    print(\"Wrong Input\")"
   ]
  },
  {
   "cell_type": "code",
   "execution_count": null,
   "metadata": {
    "collapsed": true
   },
   "outputs": [],
   "source": []
  }
 ],
 "metadata": {
  "kernelspec": {
   "display_name": "Python 3",
   "language": "python",
   "name": "python3"
  },
  "language_info": {
   "codemirror_mode": {
    "name": "ipython",
    "version": 3
   },
   "file_extension": ".py",
   "mimetype": "text/x-python",
   "name": "python",
   "nbconvert_exporter": "python",
   "pygments_lexer": "ipython3",
   "version": "3.6.1"
  }
 },
 "nbformat": 4,
 "nbformat_minor": 2
}
