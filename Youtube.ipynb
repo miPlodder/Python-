{
 "cells": [
  {
   "cell_type": "code",
   "execution_count": 1,
   "metadata": {
    "collapsed": true
   },
   "outputs": [],
   "source": [
    "#scrapping youtube\n",
    "import requests"
   ]
  },
  {
   "cell_type": "code",
   "execution_count": 37,
   "metadata": {},
   "outputs": [
    {
     "data": {
      "text/plain": [
       "<Response [200]>"
      ]
     },
     "execution_count": 37,
     "metadata": {},
     "output_type": "execute_result"
    }
   ],
   "source": [
    "page = requests.get(\"https://www.youtube.com/playlist?list=PLA89DCFA6ADACE599\")\n",
    "#page = requests.get(\"https://www.youtube.com/watch?v=UzxYlbK2c7E&list=PLA89DCFA6ADACE599&index=1\") #normal video link\n",
    "page"
   ]
  },
  {
   "cell_type": "code",
   "execution_count": 38,
   "metadata": {},
   "outputs": [
    {
     "name": "stderr",
     "output_type": "stream",
     "text": [
      "C:\\Users\\saksham\\Anaconda3\\lib\\site-packages\\bs4\\__init__.py:181: UserWarning: No parser was explicitly specified, so I'm using the best available HTML parser for this system (\"lxml\"). This usually isn't a problem, but if you run this code on another system, or in a different virtual environment, it may use a different parser and behave differently.\n",
      "\n",
      "The code that caused this warning is on line 193 of the file C:\\Users\\saksham\\Anaconda3\\lib\\runpy.py. To get rid of this warning, change code that looks like this:\n",
      "\n",
      " BeautifulSoup(YOUR_MARKUP})\n",
      "\n",
      "to this:\n",
      "\n",
      " BeautifulSoup(YOUR_MARKUP, \"lxml\")\n",
      "\n",
      "  markup_type=markup_type))\n"
     ]
    }
   ],
   "source": [
    "from bs4 import BeautifulSoup\n",
    "\n",
    "soup = BeautifulSoup(page.text)"
   ]
  },
  {
   "cell_type": "code",
   "execution_count": 82,
   "metadata": {},
   "outputs": [
    {
     "name": "stdout",
     "output_type": "stream",
     "text": [
      "//www.youtube.com/upload\n",
      "https://accounts.google.com/ServiceLogin?uilel=3&service=youtube&passive=true&continue=https%3A%2F%2Fwww.youtube.com%2Fsignin%3Faction_handle_signin%3Dtrue%26app%3Ddesktop%26feature%3Dsign_in_promo%26next%3D%252Fplaylist%253Flist%253DPLA89DCFA6ADACE599%26hl%3Den&hl=en\n",
      "https://plus.google.com/114889570730484026960\n",
      "http://www.facebook.com/stanford\n",
      "http://www.twitter.com/stanford\n",
      "https://itunes.apple.com/institution/stanford/id384228265\n",
      "http://www.stanford.edu/\n",
      "https://accounts.google.com/ServiceLogin?uilel=3&service=youtube&passive=true&continue=https%3A%2F%2Fwww.youtube.com%2Fsignin%3Faction_handle_signin%3Dtrue%26app%3Ddesktop%26feature%3D__FEATURE__%26next%3D%252Fplaylist%253Flist%253DPLA89DCFA6ADACE599%26hl%3Den&hl=en\n",
      "//www.youtube.com/yt/about/\n",
      "//www.youtube.com/yt/press/\n",
      "//www.youtube.com/yt/copyright/\n",
      "//www.youtube.com/yt/creators/\n",
      "//www.youtube.com/yt/advertise/\n",
      "//www.youtube.com/yt/dev/\n",
      "https://plus.google.com/+youtube\n",
      "https://www.google.com/intl/en/policies/privacy/\n",
      "//www.youtube.com/yt/policyandsafety/\n",
      "//support.google.com/youtube/?hl=en\n",
      "https://accounts.google.com/ServiceLogin?uilel=3&service=youtube&passive=true&continue=https%3A%2F%2Fwww.youtube.com%2Fsignin%3Faction_handle_signin%3Dtrue%26app%3Ddesktop%26feature%3Dplaylist%26next%3D%252Fplaylist%253Flist%253DPLA89DCFA6ADACE599%26hl%3Den&hl=en\n",
      "{'/watch?v=bUv9bfMPMb4&index=8&list=PLA89DCFA6ADACE599', '/watch?v=UFH5ibWnA7g&index=19&list=PLA89DCFA6ADACE599', '/watch?v=qRJ3GKMOFrE&index=5&list=PLA89DCFA6ADACE599', '/watch?v=qyyJKd-zXRE&index=6&list=PLA89DCFA6ADACE599', '/watch?v=QGd06MTRMHs&index=15&list=PLA89DCFA6ADACE599', '/watch?v=RtxI449ZjSc&index=16&list=PLA89DCFA6ADACE599', '/watch?v=sQ8T9b-uGVE&index=11&list=PLA89DCFA6ADACE599', '/watch?v=LBtuYU-HfUg&index=13&list=PLA89DCFA6ADACE599', '/watch?v=-ff6l5D8-j8&index=18&list=PLA89DCFA6ADACE599', '/watch?v=LKdFTsM3hl4&index=17&list=PLA89DCFA6ADACE599', '/watch?v=0kWZoyNRxTY&index=10&list=PLA89DCFA6ADACE599', '/watch?v=nLKOQfKLUks&index=4&list=PLA89DCFA6ADACE599', '/watch?v=ZZGTuAkF-Hw&index=12&list=PLA89DCFA6ADACE599', '/watch?v=s8B4A5ubw6c&index=7&list=PLA89DCFA6ADACE599', '/watch?v=ey2PE5xi9-A&index=14&list=PLA89DCFA6ADACE599', '/watch?v=5u4G23_OohI&index=2&list=PLA89DCFA6ADACE599', '/watch?v=UzxYlbK2c7E&index=1&list=PLA89DCFA6ADACE599', '/watch?v=yCqPMD6coO8&index=20&list=PLA89DCFA6ADACE599', '/watch?v=tojaGtMPo5U&index=9&list=PLA89DCFA6ADACE599', '/watch?v=HZ4cvaztQEs&index=3&list=PLA89DCFA6ADACE599'}\n"
     ]
    }
   ],
   "source": [
    "items = soup.find_all(\"a\")\n",
    "sets = set([])\n",
    "\n",
    "for item in items:\n",
    "    \n",
    "    temp = item.get(\"href\")\n",
    "    if ((temp.find(\"/watch?\") != -1)  and (temp.find(\"&index\") != -1)):\n",
    "        #nothing to append\n",
    "        sets.add(temp)\n",
    "        \n",
    "    if(temp.find(\".\") != -1):\n",
    "        print(temp)\n",
    "           \n",
    "print(sets)"
   ]
  },
  {
   "cell_type": "code",
   "execution_count": 78,
   "metadata": {},
   "outputs": [
    {
     "name": "stdout",
     "output_type": "stream",
     "text": [
      "[]\n",
      "[]\n"
     ]
    },
    {
     "name": "stderr",
     "output_type": "stream",
     "text": [
      "C:\\Users\\saksham\\Anaconda3\\lib\\site-packages\\bs4\\__init__.py:181: UserWarning: No parser was explicitly specified, so I'm using the best available HTML parser for this system (\"lxml\"). This usually isn't a problem, but if you run this code on another system, or in a different virtual environment, it may use a different parser and behave differently.\n",
      "\n",
      "The code that caused this warning is on line 193 of the file C:\\Users\\saksham\\Anaconda3\\lib\\runpy.py. To get rid of this warning, change code that looks like this:\n",
      "\n",
      " BeautifulSoup(YOUR_MARKUP})\n",
      "\n",
      "to this:\n",
      "\n",
      " BeautifulSoup(YOUR_MARKUP, \"lxml\")\n",
      "\n",
      "  markup_type=markup_type))\n"
     ]
    }
   ],
   "source": [
    "#downloading video here\n",
    "\n",
    "page = requests.get(\"http://www.hotstar.com/\")\n",
    "\n",
    "soup2 = BeautifulSoup(page.text)\n",
    "urls =[]\n",
    "\n",
    "items = soup2.find_all(\"a\")\n",
    "print(items)\n",
    "for item in items:\n",
    "    temp = item.get(\"href\")\n",
    "    urls.append(temp)\n",
    "    \n",
    "print(urls)"
   ]
  },
  {
   "cell_type": "code",
   "execution_count": null,
   "metadata": {
    "collapsed": true
   },
   "outputs": [],
   "source": []
  }
 ],
 "metadata": {
  "kernelspec": {
   "display_name": "Python 3",
   "language": "python",
   "name": "python3"
  },
  "language_info": {
   "codemirror_mode": {
    "name": "ipython",
    "version": 3
   },
   "file_extension": ".py",
   "mimetype": "text/x-python",
   "name": "python",
   "nbconvert_exporter": "python",
   "pygments_lexer": "ipython3",
   "version": "3.6.1"
  }
 },
 "nbformat": 4,
 "nbformat_minor": 2
}
